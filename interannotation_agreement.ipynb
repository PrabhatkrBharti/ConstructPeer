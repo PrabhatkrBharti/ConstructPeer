{
  "nbformat": 4,
  "nbformat_minor": 0,
  "metadata": {
    "colab": {
      "name": "interannotation_agreement.ipynb",
      "provenance": [],
      "collapsed_sections": []
    },
    "kernelspec": {
      "name": "python3",
      "display_name": "Python 3"
    },
    "language_info": {
      "name": "python"
    }
  },
  "cells": [
    {
      "cell_type": "code",
      "source": [
        "# mount google drive (not necessary)\n",
        "from google.colab import drive\n",
        "drive.mount('/content/drive')\n",
        "%cd /content/drive/MyDrive/ML/innovation_lab/inter-annotational agreement"
      ],
      "metadata": {
        "colab": {
          "base_uri": "https://localhost:8080/"
        },
        "id": "eVGuok5GJ2Rq",
        "outputId": "e84de198-6cd8-4386-ab6d-0be876ae26ce"
      },
      "execution_count": 6,
      "outputs": [
        {
          "output_type": "stream",
          "name": "stdout",
          "text": [
            "Drive already mounted at /content/drive; to attempt to forcibly remount, call drive.mount(\"/content/drive\", force_remount=True).\n",
            "/content/drive/MyDrive/ML/innovation_lab/inter-annotational agreement\n"
          ]
        }
      ]
    },
    {
      "cell_type": "code",
      "source": [
        "#load annotation file\n",
        "import pandas as pd\n",
        "df= pd.read_excel('Kappa statistics.xlsx')   #put your annotation file path\n",
        "df"
      ],
      "metadata": {
        "colab": {
          "base_uri": "https://localhost:8080/",
          "height": 424
        },
        "id": "7k7mSdbZqyI_",
        "outputId": "b2c3bf39-173e-4b7f-a3c4-6c54dd86b9c7"
      },
      "execution_count": 7,
      "outputs": [
        {
          "output_type": "execute_result",
          "data": {
            "text/plain": [
              "                                          Reviews Text  \\\n",
              "0    I don't see how your approach has potential to...   \n",
              "1    It is a bit strange for me that authors have u...   \n",
              "2    The paper could be considered for acceptance g...   \n",
              "3    Reviewer 2: The proposal is also poorly writte...   \n",
              "4    The scientific contribution of this paper - if...   \n",
              "..                                                 ...   \n",
              "882  To put it bluntly: The last thing I want is a ...   \n",
              "883  While it unfortunately doesn't make for a flas...   \n",
              "884  The examples are stale - the method is not exc...   \n",
              "885  This paper adds nothing to the existing knowle...   \n",
              "886  This, of course, is disingenuous if not unethi...   \n",
              "\n",
              "    Constructive/ Non-constructive (Annotator A)  \\\n",
              "0                                              N   \n",
              "1                                              C   \n",
              "2                                              C   \n",
              "3                                              N   \n",
              "4                                              N   \n",
              "..                                           ...   \n",
              "882                                            N   \n",
              "883                                            C   \n",
              "884                                            N   \n",
              "885                                            N   \n",
              "886                                            N   \n",
              "\n",
              "    Constructive/Non-Constructive(Annotator B)  \n",
              "0                                            N  \n",
              "1                                            C  \n",
              "2                                            C  \n",
              "3                                            N  \n",
              "4                                            N  \n",
              "..                                         ...  \n",
              "882                                          N  \n",
              "883                                          C  \n",
              "884                                          N  \n",
              "885                                          N  \n",
              "886                                          N  \n",
              "\n",
              "[887 rows x 3 columns]"
            ],
            "text/html": [
              "\n",
              "  <div id=\"df-eab37ef5-ac7c-4445-a1e1-21baf446241b\">\n",
              "    <div class=\"colab-df-container\">\n",
              "      <div>\n",
              "<style scoped>\n",
              "    .dataframe tbody tr th:only-of-type {\n",
              "        vertical-align: middle;\n",
              "    }\n",
              "\n",
              "    .dataframe tbody tr th {\n",
              "        vertical-align: top;\n",
              "    }\n",
              "\n",
              "    .dataframe thead th {\n",
              "        text-align: right;\n",
              "    }\n",
              "</style>\n",
              "<table border=\"1\" class=\"dataframe\">\n",
              "  <thead>\n",
              "    <tr style=\"text-align: right;\">\n",
              "      <th></th>\n",
              "      <th>Reviews Text</th>\n",
              "      <th>Constructive/ Non-constructive (Annotator A)</th>\n",
              "      <th>Constructive/Non-Constructive(Annotator B)</th>\n",
              "    </tr>\n",
              "  </thead>\n",
              "  <tbody>\n",
              "    <tr>\n",
              "      <th>0</th>\n",
              "      <td>I don't see how your approach has potential to...</td>\n",
              "      <td>N</td>\n",
              "      <td>N</td>\n",
              "    </tr>\n",
              "    <tr>\n",
              "      <th>1</th>\n",
              "      <td>It is a bit strange for me that authors have u...</td>\n",
              "      <td>C</td>\n",
              "      <td>C</td>\n",
              "    </tr>\n",
              "    <tr>\n",
              "      <th>2</th>\n",
              "      <td>The paper could be considered for acceptance g...</td>\n",
              "      <td>C</td>\n",
              "      <td>C</td>\n",
              "    </tr>\n",
              "    <tr>\n",
              "      <th>3</th>\n",
              "      <td>Reviewer 2: The proposal is also poorly writte...</td>\n",
              "      <td>N</td>\n",
              "      <td>N</td>\n",
              "    </tr>\n",
              "    <tr>\n",
              "      <th>4</th>\n",
              "      <td>The scientific contribution of this paper - if...</td>\n",
              "      <td>N</td>\n",
              "      <td>N</td>\n",
              "    </tr>\n",
              "    <tr>\n",
              "      <th>...</th>\n",
              "      <td>...</td>\n",
              "      <td>...</td>\n",
              "      <td>...</td>\n",
              "    </tr>\n",
              "    <tr>\n",
              "      <th>882</th>\n",
              "      <td>To put it bluntly: The last thing I want is a ...</td>\n",
              "      <td>N</td>\n",
              "      <td>N</td>\n",
              "    </tr>\n",
              "    <tr>\n",
              "      <th>883</th>\n",
              "      <td>While it unfortunately doesn't make for a flas...</td>\n",
              "      <td>C</td>\n",
              "      <td>C</td>\n",
              "    </tr>\n",
              "    <tr>\n",
              "      <th>884</th>\n",
              "      <td>The examples are stale - the method is not exc...</td>\n",
              "      <td>N</td>\n",
              "      <td>N</td>\n",
              "    </tr>\n",
              "    <tr>\n",
              "      <th>885</th>\n",
              "      <td>This paper adds nothing to the existing knowle...</td>\n",
              "      <td>N</td>\n",
              "      <td>N</td>\n",
              "    </tr>\n",
              "    <tr>\n",
              "      <th>886</th>\n",
              "      <td>This, of course, is disingenuous if not unethi...</td>\n",
              "      <td>N</td>\n",
              "      <td>N</td>\n",
              "    </tr>\n",
              "  </tbody>\n",
              "</table>\n",
              "<p>887 rows × 3 columns</p>\n",
              "</div>\n",
              "      <button class=\"colab-df-convert\" onclick=\"convertToInteractive('df-eab37ef5-ac7c-4445-a1e1-21baf446241b')\"\n",
              "              title=\"Convert this dataframe to an interactive table.\"\n",
              "              style=\"display:none;\">\n",
              "        \n",
              "  <svg xmlns=\"http://www.w3.org/2000/svg\" height=\"24px\"viewBox=\"0 0 24 24\"\n",
              "       width=\"24px\">\n",
              "    <path d=\"M0 0h24v24H0V0z\" fill=\"none\"/>\n",
              "    <path d=\"M18.56 5.44l.94 2.06.94-2.06 2.06-.94-2.06-.94-.94-2.06-.94 2.06-2.06.94zm-11 1L8.5 8.5l.94-2.06 2.06-.94-2.06-.94L8.5 2.5l-.94 2.06-2.06.94zm10 10l.94 2.06.94-2.06 2.06-.94-2.06-.94-.94-2.06-.94 2.06-2.06.94z\"/><path d=\"M17.41 7.96l-1.37-1.37c-.4-.4-.92-.59-1.43-.59-.52 0-1.04.2-1.43.59L10.3 9.45l-7.72 7.72c-.78.78-.78 2.05 0 2.83L4 21.41c.39.39.9.59 1.41.59.51 0 1.02-.2 1.41-.59l7.78-7.78 2.81-2.81c.8-.78.8-2.07 0-2.86zM5.41 20L4 18.59l7.72-7.72 1.47 1.35L5.41 20z\"/>\n",
              "  </svg>\n",
              "      </button>\n",
              "      \n",
              "  <style>\n",
              "    .colab-df-container {\n",
              "      display:flex;\n",
              "      flex-wrap:wrap;\n",
              "      gap: 12px;\n",
              "    }\n",
              "\n",
              "    .colab-df-convert {\n",
              "      background-color: #E8F0FE;\n",
              "      border: none;\n",
              "      border-radius: 50%;\n",
              "      cursor: pointer;\n",
              "      display: none;\n",
              "      fill: #1967D2;\n",
              "      height: 32px;\n",
              "      padding: 0 0 0 0;\n",
              "      width: 32px;\n",
              "    }\n",
              "\n",
              "    .colab-df-convert:hover {\n",
              "      background-color: #E2EBFA;\n",
              "      box-shadow: 0px 1px 2px rgba(60, 64, 67, 0.3), 0px 1px 3px 1px rgba(60, 64, 67, 0.15);\n",
              "      fill: #174EA6;\n",
              "    }\n",
              "\n",
              "    [theme=dark] .colab-df-convert {\n",
              "      background-color: #3B4455;\n",
              "      fill: #D2E3FC;\n",
              "    }\n",
              "\n",
              "    [theme=dark] .colab-df-convert:hover {\n",
              "      background-color: #434B5C;\n",
              "      box-shadow: 0px 1px 3px 1px rgba(0, 0, 0, 0.15);\n",
              "      filter: drop-shadow(0px 1px 2px rgba(0, 0, 0, 0.3));\n",
              "      fill: #FFFFFF;\n",
              "    }\n",
              "  </style>\n",
              "\n",
              "      <script>\n",
              "        const buttonEl =\n",
              "          document.querySelector('#df-eab37ef5-ac7c-4445-a1e1-21baf446241b button.colab-df-convert');\n",
              "        buttonEl.style.display =\n",
              "          google.colab.kernel.accessAllowed ? 'block' : 'none';\n",
              "\n",
              "        async function convertToInteractive(key) {\n",
              "          const element = document.querySelector('#df-eab37ef5-ac7c-4445-a1e1-21baf446241b');\n",
              "          const dataTable =\n",
              "            await google.colab.kernel.invokeFunction('convertToInteractive',\n",
              "                                                     [key], {});\n",
              "          if (!dataTable) return;\n",
              "\n",
              "          const docLinkHtml = 'Like what you see? Visit the ' +\n",
              "            '<a target=\"_blank\" href=https://colab.research.google.com/notebooks/data_table.ipynb>data table notebook</a>'\n",
              "            + ' to learn more about interactive tables.';\n",
              "          element.innerHTML = '';\n",
              "          dataTable['output_type'] = 'display_data';\n",
              "          await google.colab.output.renderOutput(dataTable, element);\n",
              "          const docLink = document.createElement('div');\n",
              "          docLink.innerHTML = docLinkHtml;\n",
              "          element.appendChild(docLink);\n",
              "        }\n",
              "      </script>\n",
              "    </div>\n",
              "  </div>\n",
              "  "
            ]
          },
          "metadata": {},
          "execution_count": 7
        }
      ]
    },
    {
      "cell_type": "code",
      "source": [
        "tag1= list (df['Constructive/ Non-constructive (Annotator A)'])\n",
        "tag2= list (df['Constructive/Non-Constructive(Annotator B)'])\n",
        "for i in range(0,len(df['Constructive/Non-Constructive(Annotator B)'])):\n",
        "  if (tag2[i] in tag1[i].split(',')):\n",
        "    tag1[i] = tag2[i] \n",
        "  else:\n",
        "    tag1[i]= (tag1[i].split(','))[0]"
      ],
      "metadata": {
        "id": "h4h2HK8UrBcp"
      },
      "execution_count": 8,
      "outputs": []
    },
    {
      "cell_type": "code",
      "source": [
        "#Cohen-kappa score\n",
        "from sklearn.metrics import confusion_matrix, cohen_kappa_score\n",
        "\n",
        "print(\"\\nCohen-kappa inter-annotational agreement score :\")\n",
        "cohen_kappa_score(tag1, tag2)"
      ],
      "metadata": {
        "colab": {
          "base_uri": "https://localhost:8080/"
        },
        "id": "nPQDH71UtAlS",
        "outputId": "7dcbd7a8-72d6-4389-d750-c6a3fd4d9a34"
      },
      "execution_count": 9,
      "outputs": [
        {
          "output_type": "stream",
          "name": "stdout",
          "text": [
            "\n",
            "Cohen-kappa inter-annotational agreement score :\n"
          ]
        },
        {
          "output_type": "execute_result",
          "data": {
            "text/plain": [
              "0.9332523489067103"
            ]
          },
          "metadata": {},
          "execution_count": 9
        }
      ]
    },
    {
      "cell_type": "code",
      "source": [
        "#Krippendorff-alpha score\n",
        "!pip install krippendorff\n",
        "import krippendorff\n",
        "data = [tag1,tag2]    \n",
        "from sklearn import preprocessing\n",
        "le = preprocessing.LabelEncoder()\n",
        "le.fit(tag1)\n",
        "d1 = le.transform(tag1)\n",
        "le.fit(tag2)\n",
        "d2 = le.transform(tag2)\n",
        "kappa = krippendorff.alpha([d1,d2])\n",
        "\n",
        "print(\"\\nKrippendorff-alpha interannotational agreement score :\")\n",
        "print(kappa)"
      ],
      "metadata": {
        "colab": {
          "base_uri": "https://localhost:8080/"
        },
        "id": "FSSKe9Crtwda",
        "outputId": "fcd57224-0271-44cb-d18d-7e38f4b388d1"
      },
      "execution_count": 10,
      "outputs": [
        {
          "output_type": "stream",
          "name": "stdout",
          "text": [
            "Looking in indexes: https://pypi.org/simple, https://us-python.pkg.dev/colab-wheels/public/simple/\n",
            "Requirement already satisfied: krippendorff in /usr/local/lib/python3.7/dist-packages (0.5.1)\n",
            "Requirement already satisfied: numpy in /usr/local/lib/python3.7/dist-packages (from krippendorff) (1.21.6)\n",
            "\n",
            "Krippendorff-alpha interannotational agreement score :\n",
            "0.9332670179589203\n"
          ]
        }
      ]
    },
    {
      "cell_type": "code",
      "source": [
        ""
      ],
      "metadata": {
        "id": "qvntqd3n4B6V"
      },
      "execution_count": null,
      "outputs": []
    }
  ]
}